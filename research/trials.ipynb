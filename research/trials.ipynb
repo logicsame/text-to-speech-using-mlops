{
 "cells": [
  {
   "cell_type": "code",
   "execution_count": 1,
   "metadata": {},
   "outputs": [
    {
     "data": {
      "text/plain": [
       "1025"
      ]
     },
     "execution_count": 1,
     "metadata": {},
     "output_type": "execute_result"
    }
   ],
   "source": [
    "int((2048 // 2) + 1)"
   ]
  },
  {
   "cell_type": "code",
   "execution_count": 2,
   "metadata": {},
   "outputs": [
    {
     "data": {
      "text/plain": [
       "1024"
      ]
     },
     "execution_count": 2,
     "metadata": {},
     "output_type": "execute_result"
    }
   ],
   "source": [
    "int(2048/2.0)"
   ]
  },
  {
   "cell_type": "code",
   "execution_count": 1,
   "metadata": {},
   "outputs": [
    {
     "data": {
      "text/plain": [
       "2560"
      ]
     },
     "execution_count": 1,
     "metadata": {},
     "output_type": "execute_result"
    }
   ],
   "source": [
    "int(2048/0.8)"
   ]
  },
  {
   "cell_type": "code",
   "execution_count": 1,
   "metadata": {},
   "outputs": [
    {
     "data": {
      "text/plain": [
       "86"
      ]
     },
     "execution_count": 1,
     "metadata": {},
     "output_type": "execute_result"
    }
   ],
   "source": [
    "symbols = [\n",
    "    'EOS', ' ', '!', ',', '-', '.', \\\n",
    "    ';', '?', 'a', 'b', 'c', 'd', 'e', 'f', \\\n",
    "    'g', 'h', 'i', 'j', 'k', 'l', 'm', 'n', 'o', 'p', 'q', \\\n",
    "    'r', 's', 't', 'u', 'v', 'w', 'x', 'y', 'z', 'à', \\\n",
    "    'â', 'è', 'é', 'ê', 'ü', '’', '“', '”' \\\n",
    "  ]\n",
    "2*len(symbols) "
   ]
  },
  {
   "cell_type": "code",
   "execution_count": null,
   "metadata": {},
   "outputs": [],
   "source": [
    "  def forward(self, x):\n",
    "        \"\"\"\n",
    "        Forward pass of the PostNet.\n",
    "\n",
    "        Args:\n",
    "            x (Tensor): Input mel spectrogram\n",
    "\n",
    "        Returns:\n",
    "            Tensor: Refined mel spectrogram\n",
    "        \"\"\"\n",
    "        x = x.transpose(2, 1) # (N, FREQ, TIME)\n",
    "        x = self.conv_1(x)\n",
    "        x = self.bn_1(x)\n",
    "        x = torch.tanh(x)\n",
    "        x = self.dropout_1(x) # (N, POSNET_DIM, TIME)\n",
    "        x = self.conv_2(x)\n",
    "        x = self.bn_2(x)\n",
    "        x = torch.tanh(x)\n",
    "        x = self.dropout_2(x) # (N, POSNET_DIM, TIME)\n",
    "        x = self.conv_3(x)\n",
    "        x = self.bn_3(x)\n",
    "        x = torch.tanh(x)\n",
    "        x = self.dropout_3(x) # (N, POSNET_DIM, TIME)    \n",
    "        x = self.conv_4(x)\n",
    "        x = self.bn_4(x)\n",
    "        x = torch.tanh(x)\n",
    "        x = self.dropout_4(x) # (N, POSNET_DIM, TIME)    \n",
    "        x = self.conv_5(x)\n",
    "        x = self.bn_5(x)\n",
    "        x = torch.tanh(x)\n",
    "        x = self.dropout_5(x) # (N, POSNET_DIM, TIME)\n",
    "        x = self.conv_6(x)\n",
    "        x = self.bn_6(x)\n",
    "        x = self.dropout_6(x) # (N, FREQ, TIME)\n",
    "        x = x.transpose(1, 2)\n",
    "        return x\n",
    "    \n",
    "class DecoderPreNet(nn.Module):\n",
    "    \"\"\"\n",
    "    Decoder pre-network that processes mel spectrograms before the main decoder.\n",
    "\n",
    "    This network applies linear transformations with dropout.\n",
    "    \"\"\"\n",
    "\n",
    "    def __init__(self):\n",
    "        \"\"\"\n",
    "        Initialize the DecoderPreNet with its layers.\n",
    "        \"\"\"\n",
    "        super(DecoderPreNet, self).__init__()\n",
    "        self.linear_1 = nn.Linear(hp.mel_freq, hp.embedding_size)\n",
    "        self.linear_2 = nn.Linear(hp.embedding_size, hp.embedding_size)\n",
    "\n",
    "    def forward(self, x):\n",
    "        \"\"\"\n",
    "        Forward pass of the DecoderPreNet.\n",
    "\n",
    "        Args:\n",
    "            x (Tensor): Input mel spectrogram\n",
    "\n",
    "        Returns:\n",
    "            Tensor: Processed mel spectrogram\n",
    "        \"\"\"\n",
    "        x = self.linear_1(x)\n",
    "        x = F.relu(x)\n",
    "        x = F.dropout(x, p=0.5, training=True)\n",
    "        x = self.linear_2(x)\n",
    "        x = F.relu(x)    \n",
    "        x = F.dropout(x, p=0.5, training=True)\n",
    "        return x    \n",
    "\n",
    "class TransformerTTS(nn.Module):\n",
    "    \"\"\"\n",
    "    Main Transformer-based Text-to-Speech model.\n",
    "\n",
    "    This model combines encoder, decoder, and various auxiliary networks to generate mel spectrograms from text.\n",
    "    \"\"\"\n",
    "\n",
    "    def __init__(self, device=\"cuda\"):\n",
    "        \"\"\"\n",
    "        Initialize the TransformerTTS model with its components.\n",
    "\n",
    "        Args:\n",
    "            device (str): Device to run the model on\n",
    "        \"\"\"\n",
    "        super(TransformerTTS, self).__init__()\n",
    "        self.encoder_prenet = EncoderPreNet()\n",
    "        self.decoder_prenet = DecoderPreNet()\n",
    "        self.postnet = PostNet()\n",
    "        self.pos_encoding = nn.Embedding(num_embeddings=hp.max_mel_time, embedding_dim=hp.embedding_size)\n",
    "        self.encoder_block_1 = EncoderBlock()\n",
    "        self.encoder_block_2 = EncoderBlock()\n",
    "        self.encoder_block_3 = EncoderBlock()\n",
    "        self.decoder_block_1 = DecoderBlock()\n",
    "        self.decoder_block_2 = DecoderBlock()\n",
    "        self.decoder_block_3 = DecoderBlock()\n",
    "        self.linear_1 = nn.Linear(hp.embedding_size, hp.mel_freq) \n",
    "        self.linear_2 = nn.Linear(hp.embedding_size, 1)\n",
    "        self.norm_memory = nn.LayerNorm(normalized_shape=hp.embedding_size)\n",
    "\n",
    "    def forward(self, text, text_len, mel, mel_len):\n",
    "        \"\"\"\n",
    "        Forward pass of the TransformerTTS model.\n",
    "\n",
    "        Args:\n",
    "            text (Tensor): Input text tensor\n",
    "            text_len (Tensor): Lengths of input texts\n",
    "            mel (Tensor): Target mel spectrogram\n",
    "            mel_len (Tensor): Lengths of target mel spectrograms\n",
    "\n",
    "        Returns:\n",
    "            Tuple[Tensor, Tensor, Tensor]: Predicted mel spectrogram (post-net), \n",
    "                                           predicted mel spectrogram (pre-net),\n",
    "                                           stop token predictions\n",
    "        \"\"\"\n",
    "        N = text.shape[0]\n",
    "        S = text.shape[1]\n",
    "        TIME = mel.shape[1]\n",
    "\n",
    "        # Create masks\n",
    "        self.src_key_padding_mask = torch.zeros((N, S), device=text.device).masked_fill(\n",
    "            ~mask_from_seq_lengths(text_len, max_length=S), float(\"-inf\")\n",
    "        )\n",
    "        self.src_mask = torch.zeros((S, S), device=text.device).masked_fill(\n",
    "            torch.triu(torch.full((S, S), True, dtype=torch.bool), diagonal=1).to(text.device),       \n",
    "            float(\"-inf\")\n",
    "        )\n",
    "        self.tgt_key_padding_mask = torch.zeros((N, TIME), device=mel.device).masked_fill(\n",
    "            ~mask_from_seq_lengths(mel_len, max_length=TIME), float(\"-inf\")\n",
    "        )\n",
    "        self.tgt_mask = torch.zeros((TIME, TIME), device=mel.device).masked_fill(\n",
    "            torch.triu(torch.full((TIME, TIME), True, device=mel.device, dtype=torch.bool), diagonal=1),       \n",
    "            float(\"-inf\")\n",
    "        )\n",
    "        self.memory_mask = torch.zeros((TIME, S), device=mel.device).masked_fill(\n",
    "            torch.triu(torch.full((TIME, S), True, device=mel.device, dtype=torch.bool), diagonal=1),       \n",
    "            float(\"-inf\")\n",
    "        )    \n",
    "\n",
    "        # Encoder\n",
    "        text_x = self.encoder_prenet(text)\n",
    "        pos_codes = self.pos_encoding(torch.arange(hp.max_mel_time).to(mel.device))\n",
    "        S = text_x.shape[1]\n",
    "        text_x = text_x + pos_codes[:S]\n",
    "        text_x = self.encoder_block_1(text_x, attn_mask=self.src_mask, key_padding_mask=self.src_key_padding_mask)\n",
    "        text_x = self.encoder_block_2(text_x, attn_mask=self.src_mask, key_padding_mask=self.src_key_padding_mask)\n",
    "        text_x = self.encoder_block_3(text_x, attn_mask=self.src_mask, key_padding_mask=self.src_key_padding_mask)\n",
    "        text_x = self.norm_memory(text_x)\n",
    "        \n",
    "        # Decoder\n",
    "        mel_x = self.decoder_prenet(mel)\n",
    "        mel_x = mel_x + pos_codes[:TIME]\n",
    "        mel_x = self.decoder_block_1(x=mel_x, memory=text_x, x_attn_mask=self.tgt_mask, \n",
    "                                     x_key_padding_mask=self.tgt_key_padding_mask,\n",
    "                                     memory_attn_mask=self.memory_mask,\n",
    "                                     memory_key_padding_mask=self.src_key_padding_mask)\n",
    "        mel_x = self.decoder_block_2(x=mel_x, memory=text_x, x_attn_mask=self.tgt_mask, \n",
    "                                     x_key_padding_mask=self.tgt_key_padding_mask,\n",
    "                                     memory_attn_mask=self.memory_mask,\n",
    "                                     memory_key_padding_mask=self.src_key_padding_mask)\n",
    "        mel_x = self.decoder_block_3(x=mel_x, memory=text_x, x_attn_mask=self.tgt_mask, \n",
    "                                     x_key_padding_mask=self.tgt_key_padding_mask,\n",
    "                                     memory_attn_mask=self.memory_mask,\n",
    "                                     memory_key_padding_mask=self.src_key_padding_mask)\n",
    "\n",
    "        # Output processing\n",
    "        mel_linear = self.linear_1(mel_x)\n",
    "        mel_postnet = self.postnet(mel_linear)\n",
    "        mel_postnet = mel_linear + mel_postnet\n",
    "        stop_token = self.linear_2(mel_x)\n",
    "\n",
    "        # Masking\n",
    "        bool_mel_mask = self.tgt_key_padding_mask.ne(0).unsqueeze(-1).repeat(1, 1, hp.mel_freq)\n",
    "        mel_linear = mel_linear.masked_fill(bool_mel_mask, 0)\n",
    "        mel_postnet = mel_postnet.masked_fill(bool_mel_mask, 0)\n",
    "        stop_token = stop_token.masked_fill(bool_mel_mask[:, :, 0].unsqueeze(-1), 1e3).squeeze(2)\n",
    "        \n",
    "        return mel_postnet, mel_linear, stop_token "
   ]
  }
 ],
 "metadata": {
  "kernelspec": {
   "display_name": "Python 3",
   "language": "python",
   "name": "python3"
  },
  "language_info": {
   "codemirror_mode": {
    "name": "ipython",
    "version": 3
   },
   "file_extension": ".py",
   "mimetype": "text/x-python",
   "name": "python",
   "nbconvert_exporter": "python",
   "pygments_lexer": "ipython3",
   "version": "3.11.0"
  }
 },
 "nbformat": 4,
 "nbformat_minor": 2
}
